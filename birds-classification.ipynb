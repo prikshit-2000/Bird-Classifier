{
 "cells": [
  {
   "cell_type": "markdown",
   "metadata": {},
   "source": [
    "### Introduction\n",
    "\n",
    "In this project, I will classify images of birds by using transfer learning from a pre-trained network. I will use MobileNet V2 model developed at Google. I am beginner for computer vision and i am trying to learn more about it. I will follow transfer learning and fine-tuning which is tensorflow tutorial for the project as a guideline.\n",
    "\n",
    "My aim is to complete an end to end computer vision problem with basic parts, such as bulding an input pipeline, compose the model, data augmentation etc.\n",
    "\n",
    "Let's get started !!"
   ]
  },
  {
   "cell_type": "code",
   "execution_count": null,
   "metadata": {
    "_cell_guid": "b1076dfc-b9ad-4769-8c92-a6c4dae69d19",
    "_kg_hide-input": false,
    "_uuid": "8f2839f25d086af736a60e9eeb907d3b93b6e0e5",
    "execution": {
     "iopub.execute_input": "2021-06-12T07:13:45.82641Z",
     "iopub.status.busy": "2021-06-12T07:13:45.825801Z",
     "iopub.status.idle": "2021-06-12T07:13:51.395781Z",
     "shell.execute_reply": "2021-06-12T07:13:51.394852Z",
     "shell.execute_reply.started": "2021-06-12T07:13:45.826283Z"
    }
   },
   "outputs": [],
   "source": [
    "import numpy as np \n",
    "import pandas as pd \n",
    "import matplotlib.pyplot as plt\n",
    "import os\n",
    "import tensorflow as tf\n",
    "from tensorflow.keras.preprocessing import image\n",
    "\n",
    "from tensorflow.keras.preprocessing import image_dataset_from_directory"
   ]
  },
  {
   "cell_type": "code",
   "execution_count": null,
   "metadata": {
    "execution": {
     "iopub.execute_input": "2021-06-11T09:51:37.278233Z",
     "iopub.status.busy": "2021-06-11T09:51:37.277863Z",
     "iopub.status.idle": "2021-06-11T09:51:37.283911Z",
     "shell.execute_reply": "2021-06-11T09:51:37.282764Z",
     "shell.execute_reply.started": "2021-06-11T09:51:37.278194Z"
    }
   },
   "outputs": [],
   "source": [
    "print(tf.__version__)"
   ]
  },
  {
   "cell_type": "markdown",
   "metadata": {},
   "source": [
    "### Data Processing"
   ]
  },
  {
   "cell_type": "code",
   "execution_count": null,
   "metadata": {
    "execution": {
     "iopub.execute_input": "2021-06-11T09:51:37.286588Z",
     "iopub.status.busy": "2021-06-11T09:51:37.286172Z",
     "iopub.status.idle": "2021-06-11T09:51:37.299492Z",
     "shell.execute_reply": "2021-06-11T09:51:37.298369Z",
     "shell.execute_reply.started": "2021-06-11T09:51:37.286548Z"
    }
   },
   "outputs": [],
   "source": [
    "PATH=\"../input/100-bird-species\"\n",
    "train_dir = os.path.join(PATH, 'train')\n",
    "validation_dir = os.path.join(PATH, 'valid')\n",
    "test_dir = os.path.join(PATH, 'test')"
   ]
  },
  {
   "cell_type": "code",
   "execution_count": null,
   "metadata": {
    "execution": {
     "iopub.execute_input": "2021-06-11T09:51:37.302404Z",
     "iopub.status.busy": "2021-06-11T09:51:37.301957Z",
     "iopub.status.idle": "2021-06-11T09:51:40.591437Z",
     "shell.execute_reply": "2021-06-11T09:51:40.590447Z",
     "shell.execute_reply.started": "2021-06-11T09:51:37.302358Z"
    }
   },
   "outputs": [],
   "source": [
    "# Create tf.data.Dataset for training, validation and test using Keras image_dataset_from_directory\n",
    "\n",
    "BATCH_SIZE = 64\n",
    "IMG_SIZE = (224,224)\n",
    "\n",
    "train_dataset = image_dataset_from_directory(train_dir,\n",
    "                                             shuffle=True,\n",
    "                                             batch_size=BATCH_SIZE,\n",
    "                                             image_size=IMG_SIZE)\n",
    "\n",
    "validation_dataset = image_dataset_from_directory(validation_dir,\n",
    "                                                  shuffle=True,\n",
    "                                                  batch_size=BATCH_SIZE,\n",
    "                                                  image_size=IMG_SIZE)\n",
    "\n",
    "test_dataset = image_dataset_from_directory(test_dir,\n",
    "                                            shuffle=True,\n",
    "                                            batch_size=BATCH_SIZE,\n",
    "                                            image_size=IMG_SIZE)"
   ]
  },
  {
   "cell_type": "code",
   "execution_count": null,
   "metadata": {
    "execution": {
     "iopub.execute_input": "2021-06-11T09:51:40.593021Z",
     "iopub.status.busy": "2021-06-11T09:51:40.592755Z",
     "iopub.status.idle": "2021-06-11T09:51:40.599632Z",
     "shell.execute_reply": "2021-06-11T09:51:40.598976Z",
     "shell.execute_reply.started": "2021-06-11T09:51:40.592993Z"
    }
   },
   "outputs": [],
   "source": [
    "# Control bathches sizes\n",
    "\n",
    "print('Number of train batches: %d' % tf.data.experimental.cardinality(train_dataset))\n",
    "print('Number of validation batches: %d' % tf.data.experimental.cardinality(validation_dataset))\n",
    "print('Number of test batches: %d' % tf.data.experimental.cardinality(test_dataset))"
   ]
  },
  {
   "cell_type": "code",
   "execution_count": null,
   "metadata": {
    "execution": {
     "iopub.execute_input": "2021-06-11T10:01:08.131766Z",
     "iopub.status.busy": "2021-06-11T10:01:08.131254Z",
     "iopub.status.idle": "2021-06-11T10:01:12.285183Z",
     "shell.execute_reply": "2021-06-11T10:01:12.284253Z",
     "shell.execute_reply.started": "2021-06-11T10:01:08.131708Z"
    }
   },
   "outputs": [],
   "source": [
    "# The first nine images and labels from training set\n",
    "\n",
    "class_names = train_dataset.class_names\n",
    "\n",
    "plt.figure(figsize=(12,12))\n",
    "for images, labels in train_dataset.take(1):\n",
    "    for i in range(9):\n",
    "        ax = plt.subplot(3, 3, i + 1)\n",
    "        plt.imshow(images[i].numpy().astype(\"uint8\"))\n",
    "        plt.title(class_names[labels[i]])\n",
    "        plt.axis(\"off\")"
   ]
  },
  {
   "cell_type": "code",
   "execution_count": null,
   "metadata": {
    "execution": {
     "iopub.execute_input": "2021-06-11T05:22:02.706461Z",
     "iopub.status.busy": "2021-06-11T05:22:02.70612Z",
     "iopub.status.idle": "2021-06-11T05:22:02.712783Z",
     "shell.execute_reply": "2021-06-11T05:22:02.711891Z",
     "shell.execute_reply.started": "2021-06-11T05:22:02.706426Z"
    }
   },
   "outputs": [],
   "source": [
    "# for better data performance using buffered prefetching \n",
    "\n",
    "AUTOTUNE = tf.data.AUTOTUNE\n",
    "\n",
    "train_dataset = train_dataset.prefetch(buffer_size=AUTOTUNE)\n",
    "validation_dataset = validation_dataset.prefetch(buffer_size=AUTOTUNE)\n",
    "test_dataset = test_dataset.prefetch(buffer_size=AUTOTUNE)"
   ]
  },
  {
   "cell_type": "markdown",
   "metadata": {},
   "source": [
    "### Simple Data Augmentation"
   ]
  },
  {
   "cell_type": "code",
   "execution_count": null,
   "metadata": {
    "execution": {
     "iopub.execute_input": "2021-06-11T05:22:04.98783Z",
     "iopub.status.busy": "2021-06-11T05:22:04.98747Z",
     "iopub.status.idle": "2021-06-11T05:22:05.025525Z",
     "shell.execute_reply": "2021-06-11T05:22:05.024346Z",
     "shell.execute_reply.started": "2021-06-11T05:22:04.987797Z"
    }
   },
   "outputs": [],
   "source": [
    "data_augmentation = tf.keras.Sequential([\n",
    "  tf.keras.layers.experimental.preprocessing.RandomFlip('horizontal'),\n",
    "  tf.keras.layers.experimental.preprocessing.RandomRotation(0.2),\n",
    "])"
   ]
  },
  {
   "cell_type": "code",
   "execution_count": null,
   "metadata": {
    "execution": {
     "iopub.execute_input": "2021-06-11T05:22:07.255611Z",
     "iopub.status.busy": "2021-06-11T05:22:07.255278Z",
     "iopub.status.idle": "2021-06-11T05:22:09.237523Z",
     "shell.execute_reply": "2021-06-11T05:22:09.236677Z",
     "shell.execute_reply.started": "2021-06-11T05:22:07.255577Z"
    }
   },
   "outputs": [],
   "source": [
    "# Result for an image after apply the augmentation\n",
    "\n",
    "for image, _ in train_dataset.take(1):\n",
    "    plt.figure(figsize=(10, 10))\n",
    "    first_image = image[0]\n",
    "    for i in range(9):\n",
    "        ax = plt.subplot(3, 3, i + 1)\n",
    "        augmented_image = data_augmentation(tf.expand_dims(first_image, 0))\n",
    "        plt.imshow(augmented_image[0] / 255)\n",
    "        plt.axis('off')"
   ]
  },
  {
   "cell_type": "markdown",
   "metadata": {},
   "source": [
    "### Create a base pre-trained model"
   ]
  },
  {
   "cell_type": "code",
   "execution_count": null,
   "metadata": {
    "execution": {
     "iopub.execute_input": "2021-06-11T05:22:13.303252Z",
     "iopub.status.busy": "2021-06-11T05:22:13.302923Z",
     "iopub.status.idle": "2021-06-11T05:22:13.30749Z",
     "shell.execute_reply": "2021-06-11T05:22:13.306375Z",
     "shell.execute_reply.started": "2021-06-11T05:22:13.303223Z"
    }
   },
   "outputs": [],
   "source": [
    "# Download mobilenet_v2 model architecture.\n",
    "\n",
    "preprocess_input = tf.keras.applications.mobilenet_v2.preprocess_input"
   ]
  },
  {
   "cell_type": "code",
   "execution_count": null,
   "metadata": {
    "execution": {
     "iopub.execute_input": "2021-06-11T05:22:13.784262Z",
     "iopub.status.busy": "2021-06-11T05:22:13.783858Z",
     "iopub.status.idle": "2021-06-11T05:22:14.972972Z",
     "shell.execute_reply": "2021-06-11T05:22:14.971999Z",
     "shell.execute_reply.started": "2021-06-11T05:22:13.784222Z"
    }
   },
   "outputs": [],
   "source": [
    "# Create the base model from the pre-trained model MobileNet V2\n",
    "\n",
    "IMG_SHAPE = IMG_SIZE + (3,)\n",
    "base_model = tf.keras.applications.MobileNetV2(input_shape=IMG_SHAPE,\n",
    "                                               include_top=False,\n",
    "                                               weights='imagenet')"
   ]
  },
  {
   "cell_type": "code",
   "execution_count": null,
   "metadata": {
    "execution": {
     "iopub.execute_input": "2021-06-11T05:22:17.067173Z",
     "iopub.status.busy": "2021-06-11T05:22:17.066827Z",
     "iopub.status.idle": "2021-06-11T05:22:21.973975Z",
     "shell.execute_reply": "2021-06-11T05:22:21.972269Z",
     "shell.execute_reply.started": "2021-06-11T05:22:17.067142Z"
    }
   },
   "outputs": [],
   "source": [
    "# This feature extractor converts each 224x224x3 image into a 7x7x1280 block of features\n",
    "\n",
    "image_batch, label_batch = next(iter(train_dataset))\n",
    "feature_batch = base_model(image_batch)\n",
    "print(feature_batch.shape)"
   ]
  },
  {
   "cell_type": "code",
   "execution_count": null,
   "metadata": {
    "execution": {
     "iopub.execute_input": "2021-06-11T05:22:21.97643Z",
     "iopub.status.busy": "2021-06-11T05:22:21.976025Z",
     "iopub.status.idle": "2021-06-11T05:22:21.987309Z",
     "shell.execute_reply": "2021-06-11T05:22:21.986366Z",
     "shell.execute_reply.started": "2021-06-11T05:22:21.976383Z"
    }
   },
   "outputs": [],
   "source": [
    "# Freeze the model weights before compile and train the model.\n",
    "\n",
    "base_model.trainable = False"
   ]
  },
  {
   "cell_type": "code",
   "execution_count": null,
   "metadata": {
    "execution": {
     "iopub.execute_input": "2021-06-11T05:22:21.989907Z",
     "iopub.status.busy": "2021-06-11T05:22:21.989274Z",
     "iopub.status.idle": "2021-06-11T05:22:22.009636Z",
     "shell.execute_reply": "2021-06-11T05:22:22.008657Z",
     "shell.execute_reply.started": "2021-06-11T05:22:21.989863Z"
    }
   },
   "outputs": [],
   "source": [
    "# Convert the features to a single 1280 element vector per image\n",
    "\n",
    "global_average_layer = tf.keras.layers.GlobalAveragePooling2D()\n",
    "feature_batch_average = global_average_layer(feature_batch)\n",
    "print(feature_batch_average.shape)"
   ]
  },
  {
   "cell_type": "code",
   "execution_count": null,
   "metadata": {
    "execution": {
     "iopub.execute_input": "2021-06-11T05:22:24.144376Z",
     "iopub.status.busy": "2021-06-11T05:22:24.144041Z",
     "iopub.status.idle": "2021-06-11T05:22:24.165398Z",
     "shell.execute_reply": "2021-06-11T05:22:24.16462Z",
     "shell.execute_reply.started": "2021-06-11T05:22:24.144346Z"
    }
   },
   "outputs": [],
   "source": [
    "# Apply a tf.keras.layers.Dense layer to convert these features into 270 predictions per image\n",
    "\n",
    "prediction_layer = tf.keras.layers.Dense(275, activation = 'softmax')\n",
    "prediction_batch = prediction_layer(feature_batch_average)\n",
    "print(prediction_batch.shape)"
   ]
  },
  {
   "cell_type": "code",
   "execution_count": null,
   "metadata": {
    "execution": {
     "iopub.execute_input": "2021-06-11T05:22:31.810517Z",
     "iopub.status.busy": "2021-06-11T05:22:31.810167Z",
     "iopub.status.idle": "2021-06-11T05:22:32.261375Z",
     "shell.execute_reply": "2021-06-11T05:22:32.260478Z",
     "shell.execute_reply.started": "2021-06-11T05:22:31.810486Z"
    }
   },
   "outputs": [],
   "source": [
    "# Build a model by chaining together the data augmentation, rescaling, base_model and feature extractor layers using the Keras\n",
    "\n",
    "inputs = tf.keras.Input(shape=(224, 224, 3))\n",
    "x = data_augmentation(inputs)\n",
    "x = preprocess_input(x)\n",
    "x = base_model(x, training=False)\n",
    "x = global_average_layer(x)\n",
    "x = tf.keras.layers.Dropout(0.2)(x)\n",
    "outputs = prediction_layer(x)\n",
    "model = tf.keras.Model(inputs, outputs)"
   ]
  },
  {
   "cell_type": "code",
   "execution_count": null,
   "metadata": {
    "execution": {
     "iopub.execute_input": "2021-06-11T05:22:41.468165Z",
     "iopub.status.busy": "2021-06-11T05:22:41.467726Z",
     "iopub.status.idle": "2021-06-11T05:22:41.500017Z",
     "shell.execute_reply": "2021-06-11T05:22:41.499134Z",
     "shell.execute_reply.started": "2021-06-11T05:22:41.468125Z"
    }
   },
   "outputs": [],
   "source": [
    "# Compile the model before training it. Since there are multi classes, I will use a Sparse Categorical Crossentropy loss \n",
    "\n",
    "base_learning_rate = 0.001\n",
    "model.compile(optimizer=tf.keras.optimizers.Adam(lr=base_learning_rate),\n",
    "              loss=tf.keras.losses.SparseCategoricalCrossentropy(from_logits=True),\n",
    "              metrics=['acc'])"
   ]
  },
  {
   "cell_type": "code",
   "execution_count": null,
   "metadata": {
    "execution": {
     "iopub.execute_input": "2021-06-11T05:22:50.157036Z",
     "iopub.status.busy": "2021-06-11T05:22:50.156674Z",
     "iopub.status.idle": "2021-06-11T05:22:50.176376Z",
     "shell.execute_reply": "2021-06-11T05:22:50.175392Z",
     "shell.execute_reply.started": "2021-06-11T05:22:50.157005Z"
    }
   },
   "outputs": [],
   "source": [
    "model.summary()"
   ]
  },
  {
   "cell_type": "markdown",
   "metadata": {},
   "source": [
    "### Train The Model"
   ]
  },
  {
   "cell_type": "code",
   "execution_count": null,
   "metadata": {
    "execution": {
     "iopub.execute_input": "2021-06-11T05:22:51.682896Z",
     "iopub.status.busy": "2021-06-11T05:22:51.682504Z",
     "iopub.status.idle": "2021-06-11T05:44:33.347804Z",
     "shell.execute_reply": "2021-06-11T05:44:33.34697Z",
     "shell.execute_reply.started": "2021-06-11T05:22:51.682859Z"
    }
   },
   "outputs": [],
   "source": [
    "initial_epochs = 15\n",
    "history = model.fit(train_dataset,\n",
    "                    epochs=initial_epochs,\n",
    "                    validation_data=validation_dataset)"
   ]
  },
  {
   "cell_type": "markdown",
   "metadata": {},
   "source": [
    "### Learning Curves"
   ]
  },
  {
   "cell_type": "code",
   "execution_count": null,
   "metadata": {
    "execution": {
     "iopub.execute_input": "2021-06-11T05:44:33.349915Z",
     "iopub.status.busy": "2021-06-11T05:44:33.349525Z",
     "iopub.status.idle": "2021-06-11T05:44:33.667015Z",
     "shell.execute_reply": "2021-06-11T05:44:33.665907Z",
     "shell.execute_reply.started": "2021-06-11T05:44:33.349876Z"
    }
   },
   "outputs": [],
   "source": [
    "acc = history.history['acc']\n",
    "val_acc = history.history['val_acc']\n",
    "\n",
    "loss = history.history['loss']\n",
    "val_loss = history.history['val_loss']\n",
    "\n",
    "plt.figure(figsize=(8, 8))\n",
    "plt.subplot(2, 1, 1)\n",
    "plt.plot(acc, label='Training Accuracy')\n",
    "plt.plot(val_acc, label='Validation Accuracy')\n",
    "plt.legend(loc='lower right')\n",
    "plt.ylabel('Accuracy')\n",
    "plt.ylim([min(plt.ylim()),1])\n",
    "plt.title('Training and Validation Accuracy')\n",
    "\n",
    "plt.subplot(2, 1, 2)\n",
    "plt.plot(loss, label='Training Loss')\n",
    "plt.plot(val_loss, label='Validation Loss')\n",
    "plt.legend(loc='upper right')\n",
    "plt.ylabel('Cross Entropy')\n",
    "plt.ylim([0,max(plt.ylim())])\n",
    "plt.title('Training and Validation Loss')\n",
    "plt.xlabel('epoch')\n",
    "plt.show()"
   ]
  },
  {
   "cell_type": "markdown",
   "metadata": {},
   "source": [
    "### Evaluation and prediction"
   ]
  },
  {
   "cell_type": "code",
   "execution_count": null,
   "metadata": {
    "execution": {
     "iopub.execute_input": "2021-06-11T05:44:33.669159Z",
     "iopub.status.busy": "2021-06-11T05:44:33.668813Z",
     "iopub.status.idle": "2021-06-11T05:44:40.928656Z",
     "shell.execute_reply": "2021-06-11T05:44:40.927591Z",
     "shell.execute_reply.started": "2021-06-11T05:44:33.669114Z"
    }
   },
   "outputs": [],
   "source": [
    "# Finaly we can verify the performance of the model on test set.\n",
    "\n",
    "loss, accuracy = model.evaluate(test_dataset)\n",
    "print('Test accuracy :', accuracy)"
   ]
  },
  {
   "cell_type": "code",
   "execution_count": null,
   "metadata": {
    "execution": {
     "iopub.execute_input": "2021-06-11T10:05:43.273616Z",
     "iopub.status.busy": "2021-06-11T10:05:43.273149Z",
     "iopub.status.idle": "2021-06-11T10:05:45.717998Z",
     "shell.execute_reply": "2021-06-11T10:05:45.717092Z",
     "shell.execute_reply.started": "2021-06-11T10:05:43.273584Z"
    }
   },
   "outputs": [],
   "source": [
    "# Plot prediction results\n",
    "\n",
    "image_batch, label_batch = test_dataset.as_numpy_iterator().next()\n",
    "print(image_batch)\n",
    "predicted_batch = model.predict(image_batch)\n",
    "predicted_id = np.argmax(predicted_batch, axis=-1)\n",
    "\n",
    "# plt.figure(figsize=(10, 10))\n",
    "# for i in range(9):\n",
    "#     ax = plt.subplot(3, 3, i + 1)\n",
    "plt.imshow(image_batch[i].astype(\"uint8\"))\n",
    "plt.title(class_names[predicted_id[i]])\n",
    "plt.axis(\"off\")"
   ]
  },
  {
   "cell_type": "code",
   "execution_count": null,
   "metadata": {
    "execution": {
     "iopub.execute_input": "2021-06-11T05:45:00.219579Z",
     "iopub.status.busy": "2021-06-11T05:45:00.219251Z",
     "iopub.status.idle": "2021-06-11T05:45:24.561674Z",
     "shell.execute_reply": "2021-06-11T05:45:24.560749Z",
     "shell.execute_reply.started": "2021-06-11T05:45:00.219549Z"
    }
   },
   "outputs": [],
   "source": [
    "model.save('bird-96test')"
   ]
  },
  {
   "cell_type": "code",
   "execution_count": null,
   "metadata": {
    "execution": {
     "iopub.execute_input": "2021-06-11T05:46:54.902836Z",
     "iopub.status.busy": "2021-06-11T05:46:54.902415Z",
     "iopub.status.idle": "2021-06-11T05:46:56.383812Z",
     "shell.execute_reply": "2021-06-11T05:46:56.382796Z",
     "shell.execute_reply.started": "2021-06-11T05:46:54.902796Z"
    }
   },
   "outputs": [],
   "source": [
    "!zip -r 'bird-96test.zip' ./"
   ]
  },
  {
   "cell_type": "code",
   "execution_count": null,
   "metadata": {
    "execution": {
     "iopub.execute_input": "2021-06-11T09:52:21.128322Z",
     "iopub.status.busy": "2021-06-11T09:52:21.127557Z",
     "iopub.status.idle": "2021-06-11T09:52:29.671981Z",
     "shell.execute_reply": "2021-06-11T09:52:29.671199Z",
     "shell.execute_reply.started": "2021-06-11T09:52:21.128266Z"
    }
   },
   "outputs": [],
   "source": [
    "model = tf.keras.models.load_model('../input/birdmodel/bird-96test')"
   ]
  },
  {
   "cell_type": "code",
   "execution_count": null,
   "metadata": {
    "execution": {
     "iopub.execute_input": "2021-06-11T09:59:14.878683Z",
     "iopub.status.busy": "2021-06-11T09:59:14.87837Z",
     "iopub.status.idle": "2021-06-11T09:59:14.901134Z",
     "shell.execute_reply": "2021-06-11T09:59:14.90021Z",
     "shell.execute_reply.started": "2021-06-11T09:59:14.878655Z"
    }
   },
   "outputs": [],
   "source": [
    "def model_predict(img_path, model):\n",
    "    img = image.load_img(img_path, target_size=(224, 224,3))\n",
    "\n",
    "    # Preprocessing the image\n",
    "    x = image.img_to_array(img)\n",
    "    # x = np.true_divide(x, 255)\n",
    "    ## Scaling\n",
    "    x=x/255\n",
    "    x = np.expand_dims(x, axis=0)\n",
    "   \n",
    "\n",
    "   \n",
    "\n",
    "    preds = model.predict(x)\n",
    "    preds=np.argmax(preds, axis=1)\n",
    "   \n",
    "    classes = {\"0\": \"AFRICAN CROWNED CRANE\", \"1\": \"AFRICAN FIREFINCH\", \"2\": \"ALBATROSS\", \"3\": \"ALEXANDRINE PARAKEET\", \"4\": \"AMERICAN AVOCET\", \"5\": \"AMERICAN BITTERN\", \"6\": \"AMERICAN COOT\", \"7\": \"AMERICAN GOLDFINCH\", \"8\": \"AMERICAN KESTREL\", \"9\": \"AMERICAN PIPIT\", \"10\": \"AMERICAN REDSTART\", \"11\": \"ANHINGA\", \"12\": \"ANNAS HUMMINGBIRD\", \"13\": \"ANTBIRD\", \"14\": \"ARARIPE MANAKIN\", \"15\": \"ASIAN CRESTED IBIS\", \"16\": \"BALD EAGLE\", \"17\": \"BALI STARLING\", \"18\": \"BALTIMORE ORIOLE\", \"19\": \"BANANAQUIT\", \"20\": \"BANDED BROADBILL\", \"21\": \"BAR-TAILED GODWIT\", \"22\": \"BARN OWL\", \"23\": \"BARN SWALLOW\", \"24\": \"BARRED PUFFBIRD\", \"25\": \"BAY-BREASTED WARBLER\", \"26\": \"BEARDED BARBET\", \"27\": \"BEARDED REEDLING\", \"28\": \"BELTED KINGFISHER\", \"29\": \"BIRD OF PARADISE\", \"30\": \"BLACK & YELLOW bROADBILL\", \"31\": \"BLACK FRANCOLIN\", \"32\": \"BLACK SKIMMER\", \"33\": \"BLACK SWAN\", \"34\": \"BLACK TAIL CRAKE\", \"35\": \"BLACK THROATED BUSHTIT\", \"36\": \"BLACK THROATED WARBLER\", \"37\": \"BLACK VULTURE\", \"38\": \"BLACK-CAPPED CHICKADEE\", \"39\": \"BLACK-NECKED GREBE\", \"40\": \"BLACK-THROATED SPARROW\", \"41\": \"BLACKBURNIAM WARBLER\", \"42\": \"BLUE GROUSE\", \"43\": \"BLUE HERON\", \"44\": \"BOBOLINK\", \"45\": \"BORNEAN BRISTLEHEAD\", \"46\": \"BORNEAN LEAFBIRD\", \"47\": \"BROWN NOODY\", \"48\": \"BROWN THRASHER\", \"49\": \"BULWERS PHEASANT\", \"50\": \"CACTUS WREN\", \"51\": \"CALIFORNIA CONDOR\", \"52\": \"CALIFORNIA GULL\", \"53\": \"CALIFORNIA QUAIL\", \"54\": \"CANARY\", \"55\": \"CAPE MAY WARBLER\", \"56\": \"CAPUCHINBIRD\", \"57\": \"CARMINE BEE-EATER\", \"58\": \"CASPIAN TERN\", \"59\": \"CASSOWARY\", \"60\": \"CEDAR WAXWING\", \"61\": \"CHARA DE COLLAR\", \"62\": \"CHIPPING SPARROW\", \"63\": \"CHUKAR PARTRIDGE\", \"64\": \"CINNAMON TEAL\", \"65\": \"CLARKS NUTCRACKER\", \"66\": \"COCK OF THE  ROCK\", \"67\": \"COCKATOO\", \"68\": \"COMMON FIRECREST\", \"69\": \"COMMON GRACKLE\", \"70\": \"COMMON HOUSE MARTIN\", \"71\": \"COMMON LOON\", \"72\": \"COMMON POORWILL\", \"73\": \"COMMON STARLING\", \"74\": \"COUCHS KINGBIRD\", \"75\": \"CRESTED AUKLET\", \"76\": \"CRESTED CARACARA\", \"77\": \"CRESTED NUTHATCH\", \"78\": \"CROW\", \"79\": \"CROWNED PIGEON\", \"80\": \"CUBAN TODY\", \"81\": \"CURL CRESTED ARACURI\", \"82\": \"D-ARNAUDS BARBET\", \"83\": \"DARK EYED JUNCO\", \"84\": \"DOUBLE BARRED FINCH\", \"85\": \"DOWNY WOODPECKER\", \"86\": \"EASTERN BLUEBIRD\", \"87\": \"EASTERN MEADOWLARK\", \"88\": \"EASTERN ROSELLA\", \"89\": \"EASTERN TOWEE\", \"90\": \"ELEGANT TROGON\", \"91\": \"ELLIOTS  PHEASANT\", \"92\": \"EMPEROR PENGUIN\", \"93\": \"EMU\", \"94\": \"ENGGANO MYNA\", \"95\": \"EURASIAN GOLDEN ORIOLE\", \"96\": \"EURASIAN MAGPIE\", \"97\": \"EVENING GROSBEAK\", \"98\": \"FIRE TAILLED MYZORNIS\", \"99\": \"FLAME TANAGER\", \"100\": \"FLAMINGO\", \"101\": \"FRIGATE\", \"102\": \"GAMBELS QUAIL\", \"103\": \"GANG GANG COCKATOO\", \"104\": \"GILA WOODPECKER\", \"105\": \"GILDED FLICKER\", \"106\": \"GLOSSY IBIS\", \"107\": \"GO AWAY BIRD\", \"108\": \"GOLD WING WARBLER\", \"109\": \"GOLDEN CHEEKED WARBLER\", \"110\": \"GOLDEN CHLOROPHONIA\", \"111\": \"GOLDEN EAGLE\", \"112\": \"GOLDEN PHEASANT\", \"113\": \"GOLDEN PIPIT\", \"114\": \"GOULDIAN FINCH\", \"115\": \"GRAY CATBIRD\", \"116\": \"GRAY PARTRIDGE\", \"117\": \"GREAT POTOO\", \"118\": \"GREATOR SAGE GROUSE\", \"119\": \"GREEN JAY\", \"120\": \"GREEN MAGPIE\", \"121\": \"GREY PLOVER\", \"122\": \"GUINEA TURACO\", \"123\": \"GUINEAFOWL\", \"124\": \"GYRFALCON\", \"125\": \"HARPY EAGLE\", \"126\": \"HAWAIIAN GOOSE\", \"127\": \"HELMET VANGA\", \"128\": \"HIMALAYAN MONAL\", \"129\": \"HOATZIN\", \"130\": \"HOODED MERGANSER\", \"131\": \"HOOPOES\", \"132\": \"HORNBILL\", \"133\": \"HORNED GUAN\", \"134\": \"HORNED SUNGEM\", \"135\": \"HOUSE FINCH\", \"136\": \"HOUSE SPARROW\", \"137\": \"IMPERIAL SHAQ\", \"138\": \"INCA TERN\", \"139\": \"INDIAN BUSTARD\", \"140\": \"INDIAN PITTA\", \"141\": \"INDIGO BUNTING\", \"142\": \"JABIRU\", \"143\": \"JAVA SPARROW\", \"144\": \"KAKAPO\", \"145\": \"KILLDEAR\", \"146\": \"KING VULTURE\", \"147\": \"KIWI\", \"148\": \"KOOKABURRA\", \"149\": \"LARK BUNTING\", \"150\": \"LEARS MACAW\", \"151\": \"LILAC ROLLER\", \"152\": \"LONG-EARED OWL\", \"153\": \"MAGPIE GOOSE\", \"154\": \"MALABAR HORNBILL\", \"155\": \"MALACHITE KINGFISHER\", \"156\": \"MALEO\", \"157\": \"MALLARD DUCK\", \"158\": \"MANDRIN DUCK\", \"159\": \"MARABOU STORK\", \"160\": \"MASKED BOOBY\", \"161\": \"MASKED LAPWING\", \"162\": \"MIKADO  PHEASANT\", \"163\": \"MOURNING DOVE\", \"164\": \"MYNA\", \"165\": \"NICOBAR PIGEON\", \"166\": \"NOISY FRIARBIRD\", \"167\": \"NORTHERN BALD IBIS\", \"168\": \"NORTHERN CARDINAL\", \"169\": \"NORTHERN FLICKER\", \"170\": \"NORTHERN GANNET\", \"171\": \"NORTHERN GOSHAWK\", \"172\": \"NORTHERN JACANA\", \"173\": \"NORTHERN MOCKINGBIRD\", \"174\": \"NORTHERN PARULA\", \"175\": \"NORTHERN RED BISHOP\", \"176\": \"NORTHERN SHOVELER\", \"177\": \"OCELLATED TURKEY\", \"178\": \"OKINAWA RAIL\", \"179\": \"OSPREY\", \"180\": \"OSTRICH\", \"181\": \"OVENBIRD\", \"182\": \"OYSTER CATCHER\", \"183\": \"PAINTED BUNTIG\", \"184\": \"PALILA\", \"185\": \"PARADISE TANAGER\", \"186\": \"PARAKETT  AKULET\", \"187\": \"PARUS MAJOR\", \"188\": \"PEACOCK\", \"189\": \"PELICAN\", \"190\": \"PEREGRINE FALCON\", \"191\": \"PHILIPPINE EAGLE\", \"192\": \"PINK ROBIN\", \"193\": \"PUFFIN\", \"194\": \"PURPLE FINCH\", \"195\": \"PURPLE GALLINULE\", \"196\": \"PURPLE MARTIN\", \"197\": \"PURPLE SWAMPHEN\", \"198\": \"PYGMY KINGFISHER\", \"199\": \"QUETZAL\", \"200\": \"RAINBOW LORIKEET\", \"201\": \"RAZORBILL\", \"202\": \"RED BEARDED BEE EATER\", \"203\": \"RED BELLIED PITTA\", \"204\": \"RED BROWED FINCH\", \"205\": \"RED FACED CORMORANT\", \"206\": \"RED FACED WARBLER\", \"207\": \"RED HEADED DUCK\", \"208\": \"RED HEADED WOODPECKER\", \"209\": \"RED HONEY CREEPER\", \"210\": \"RED TAILED THRUSH\", \"211\": \"RED WINGED BLACKBIRD\", \"212\": \"RED WISKERED BULBUL\", \"213\": \"REGENT BOWERBIRD\", \"214\": \"RING-NECKED PHEASANT\", \"215\": \"ROADRUNNER\", \"216\": \"ROBIN\", \"217\": \"ROCK DOVE\", \"218\": \"ROSY FACED LOVEBIRD\", \"219\": \"ROUGH LEG BUZZARD\", \"220\": \"ROYAL FLYCATCHER\", \"221\": \"RUBY THROATED HUMMINGBIRD\", \"222\": \"RUFOUS KINGFISHER\", \"223\": \"RUFUOS MOTMOT\", \"224\": \"SAMATRAN THRUSH\", \"225\": \"SAND MARTIN\", \"226\": \"SCARLET IBIS\", \"227\": \"SCARLET MACAW\", \"228\": \"SHOEBILL\", \"229\": \"SHORT BILLED DOWITCHER\", \"230\": \"SMITHS LONGSPUR\", \"231\": \"SNOWY EGRET\", \"232\": \"SNOWY OWL\", \"233\": \"SORA\", \"234\": \"SPANGLED COTINGA\", \"235\": \"SPLENDID WREN\", \"236\": \"SPOON BILED SANDPIPER\", \"237\": \"SPOONBILL\", \"238\": \"SRI LANKA BLUE MAGPIE\", \"239\": \"STEAMER DUCK\", \"240\": \"STORK BILLED KINGFISHER\", \"241\": \"STRAWBERRY FINCH\", \"242\": \"STRIPPED SWALLOW\", \"243\": \"SUPERB STARLING\", \"244\": \"SWINHOES PHEASANT\", \"245\": \"TAIWAN MAGPIE\", \"246\": \"TAKAHE\", \"247\": \"TASMANIAN HEN\", \"248\": \"TEAL DUCK\", \"249\": \"TIT MOUSE\", \"250\": \"TOUCHAN\", \"251\": \"TOWNSENDS WARBLER\", \"252\": \"TREE SWALLOW\", \"253\": \"TRUMPTER SWAN\", \"254\": \"TURKEY VULTURE\", \"255\": \"TURQUOISE MOTMOT\", \"256\": \"UMBRELLA BIRD\", \"257\": \"VARIED THRUSH\", \"258\": \"VENEZUELIAN TROUPIAL\", \"259\": \"VERMILION FLYCATHER\", \"260\": \"VICTORIA CROWNED PIGEON\", \"261\": \"VIOLET GREEN SWALLOW\", \"262\": \"VULTURINE GUINEAFOWL\", \"263\": \"WATTLED CURASSOW\", \"264\": \"WHIMBREL\", \"265\": \"WHITE CHEEKED TURACO\", \"266\": \"WHITE NECKED RAVEN\", \"267\": \"WHITE TAILED TROPIC\", \"268\": \"WHITE THROATED BEE EATER\", \"269\": \"WILD TURKEY\", \"270\": \"WILSONS BIRD OF PARADISE\", \"271\": \"WOOD DUCK\", \"272\": \"YELLOW BELLIED FLOWERPECKER\", \"273\": \"YELLOW CACIQUE\", \"274\": \"YELLOW HEADED BLACKBIRD\"}\n",
    "    classes = {int(k):str(v) for k,v in classes.items()}\n",
    "    \n",
    "    return classes[int(preds)]"
   ]
  },
  {
   "cell_type": "code",
   "execution_count": null,
   "metadata": {
    "execution": {
     "iopub.execute_input": "2021-06-11T09:59:23.159907Z",
     "iopub.status.busy": "2021-06-11T09:59:23.159241Z",
     "iopub.status.idle": "2021-06-11T09:59:23.244015Z",
     "shell.execute_reply": "2021-06-11T09:59:23.243125Z",
     "shell.execute_reply.started": "2021-06-11T09:59:23.159856Z"
    }
   },
   "outputs": [],
   "source": [
    "model_predict('../input/100-bird-species/train/ALBATROSS/002.jpg', model)"
   ]
  },
  {
   "cell_type": "code",
   "execution_count": null,
   "metadata": {
    "execution": {
     "iopub.execute_input": "2021-06-11T05:17:18.692569Z",
     "iopub.status.busy": "2021-06-11T05:17:18.692247Z",
     "iopub.status.idle": "2021-06-11T05:17:18.696797Z",
     "shell.execute_reply": "2021-06-11T05:17:18.695739Z",
     "shell.execute_reply.started": "2021-06-11T05:17:18.692541Z"
    }
   },
   "outputs": [],
   "source": [
    "\n",
    "class_dict = {}\n",
    "for i in range(0,len(class_names)):\n",
    "    class_dict[i] = class_names[i]\n",
    "    "
   ]
  },
  {
   "cell_type": "code",
   "execution_count": null,
   "metadata": {
    "execution": {
     "iopub.execute_input": "2021-06-11T05:17:27.188507Z",
     "iopub.status.busy": "2021-06-11T05:17:27.18815Z",
     "iopub.status.idle": "2021-06-11T05:17:27.201769Z",
     "shell.execute_reply": "2021-06-11T05:17:27.200781Z",
     "shell.execute_reply.started": "2021-06-11T05:17:27.188466Z"
    }
   },
   "outputs": [],
   "source": [
    "class_dict"
   ]
  },
  {
   "cell_type": "code",
   "execution_count": null,
   "metadata": {
    "execution": {
     "iopub.execute_input": "2021-06-11T05:17:58.596457Z",
     "iopub.status.busy": "2021-06-11T05:17:58.596131Z",
     "iopub.status.idle": "2021-06-11T05:17:58.601775Z",
     "shell.execute_reply": "2021-06-11T05:17:58.60067Z",
     "shell.execute_reply.started": "2021-06-11T05:17:58.596427Z"
    }
   },
   "outputs": [],
   "source": [
    "import json  \n",
    " \n",
    " \n",
    "with open(\"classes.json\", \"w\") as outfile: \n",
    "    json.dump(class_dict, outfile)"
   ]
  },
  {
   "cell_type": "code",
   "execution_count": null,
   "metadata": {
    "execution": {
     "iopub.execute_input": "2021-06-12T07:14:04.176055Z",
     "iopub.status.busy": "2021-06-12T07:14:04.17542Z",
     "iopub.status.idle": "2021-06-12T07:14:14.305005Z",
     "shell.execute_reply": "2021-06-12T07:14:14.304249Z",
     "shell.execute_reply.started": "2021-06-12T07:14:04.176019Z"
    }
   },
   "outputs": [],
   "source": [
    "load_model = tf.keras.models.load_model('../input/birdmodel/bird-96test')"
   ]
  },
  {
   "cell_type": "code",
   "execution_count": null,
   "metadata": {
    "execution": {
     "iopub.execute_input": "2021-06-12T07:14:37.019419Z",
     "iopub.status.busy": "2021-06-12T07:14:37.018999Z",
     "iopub.status.idle": "2021-06-12T07:14:37.261335Z",
     "shell.execute_reply": "2021-06-12T07:14:37.260412Z",
     "shell.execute_reply.started": "2021-06-12T07:14:37.019375Z"
    }
   },
   "outputs": [],
   "source": [
    "new_save = load_model.save('bird_model.h5')"
   ]
  },
  {
   "cell_type": "code",
   "execution_count": null,
   "metadata": {},
   "outputs": [],
   "source": []
  }
 ],
 "metadata": {
  "kernelspec": {
   "display_name": "Python 3",
   "language": "python",
   "name": "python3"
  },
  "language_info": {
   "codemirror_mode": {
    "name": "ipython",
    "version": 3
   },
   "file_extension": ".py",
   "mimetype": "text/x-python",
   "name": "python",
   "nbconvert_exporter": "python",
   "pygments_lexer": "ipython3",
   "version": "3.7.1"
  }
 },
 "nbformat": 4,
 "nbformat_minor": 4
}
